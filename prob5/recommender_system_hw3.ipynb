{
  "nbformat": 4,
  "nbformat_minor": 0,
  "metadata": {
    "colab": {
      "provenance": []
    },
    "kernelspec": {
      "name": "python3",
      "display_name": "Python 3"
    },
    "language_info": {
      "name": "python"
    }
  },
  "cells": [
    {
      "cell_type": "code",
      "execution_count": null,
      "metadata": {
        "id": "Ro1kg0KA6b4-"
      },
      "outputs": [],
      "source": [
        "import numpy as np\n",
        "import torch\n",
        "import torch.nn as nn\n",
        "import torch.optim as optim\n",
        "from torchvision import datasets, transforms\n",
        "from torch.utils.data import DataLoader\n",
        "from matplotlib import pyplot as plt\n",
        "from tqdm import tqdm\n",
        "\n",
        "import scipy.io\n",
        "import time\n",
        "\n",
        "torch.manual_seed(21)"
      ]
    },
    {
      "cell_type": "code",
      "source": [
        "def rmse(u, v, mat):\n",
        "    mat = torch.tensor(mat)\n",
        "    mask = mat > 0\n",
        "    mse = torch.sum(((torch.matmul(u, v.t()) - mat) * mask) ** 2) / torch.sum(mask)\n",
        "    return torch.sqrt(mse)"
      ],
      "metadata": {
        "id": "a-qrGK077N5J"
      },
      "execution_count": null,
      "outputs": []
    },
    {
      "cell_type": "code",
      "source": [
        "## Please do not forget to keep `new_movies_data.mat` file in the same folder as this notebook."
      ],
      "metadata": {
        "id": "f7c1dvVJEY2Q"
      },
      "execution_count": null,
      "outputs": []
    },
    {
      "cell_type": "code",
      "source": [
        "from google.colab import files\n",
        "files.upload()"
      ],
      "metadata": {
        "id": "wlwFXZuyrh7m"
      },
      "execution_count": null,
      "outputs": []
    },
    {
      "cell_type": "code",
      "source": [
        "def my_recommender(rate_mat, lr, with_reg):\n",
        "    \"\"\"\n",
        "\n",
        "    :param rate_mat:\n",
        "    :param lr:\n",
        "    :param with_reg:\n",
        "        boolean flag, set true for using regularization and false otherwise\n",
        "    :return:\n",
        "    \"\"\"\n",
        "\n",
        "    # TODO pick hyperparams\n",
        "    max_iter = 0\n",
        "    learning_rate = lr\n",
        "    reg_coef = 0\n",
        "    n_user, n_item = rate_mat.shape[0], rate_mat.shape[1]\n",
        "\n",
        "    U = torch.rand(n_user, lr) / lr\n",
        "    V = torch.rand(n_item, lr) / lr\n",
        "\n",
        "    # TODO implement your code here\n",
        "    # print(U.shape, V.shape)\n",
        "\n",
        "    return U, V"
      ],
      "metadata": {
        "id": "aINaXjf_6hd-"
      },
      "execution_count": null,
      "outputs": []
    },
    {
      "cell_type": "code",
      "source": [
        "cell = scipy.io.loadmat('new_movies_data.mat')\n",
        "rate_mat = cell['train']\n",
        "test_mat = cell['test']\n",
        "\n",
        "low_rank_ls = [1, 3, 5]\n",
        "for lr in low_rank_ls:\n",
        "    for reg_flag in [False, True]:\n",
        "        st = time.time()\n",
        "        U, V = my_recommender(rate_mat, lr, reg_flag)\n",
        "        U = torch.tensor(U)\n",
        "        V = torch.tensor(V)\n",
        "\n",
        "        t = time.time() - st\n",
        "\n",
        "        print('SVD-%s-%i\\t%.4f\\t%.4f\\t%.2f\\n' % ('withReg' if reg_flag else 'noReg', lr,\n",
        "                                                 rmse(U, V, rate_mat).item(), rmse(U, V, test_mat).item(), t))"
      ],
      "metadata": {
        "id": "XI9noJGe61BU"
      },
      "execution_count": null,
      "outputs": []
    },
    {
      "cell_type": "code",
      "source": [],
      "metadata": {
        "id": "RzRjSKxE-W0b"
      },
      "execution_count": null,
      "outputs": []
    }
  ]
}