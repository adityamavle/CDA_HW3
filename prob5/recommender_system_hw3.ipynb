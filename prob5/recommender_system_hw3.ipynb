{
 "cells": [
  {
   "cell_type": "code",
   "execution_count": 15,
   "metadata": {
    "id": "Ro1kg0KA6b4-"
   },
   "outputs": [
    {
     "data": {
      "text/plain": [
       "<torch._C.Generator at 0x1c2d9120330>"
      ]
     },
     "execution_count": 15,
     "metadata": {},
     "output_type": "execute_result"
    }
   ],
   "source": [
    "import numpy as np\n",
    "import torch\n",
    "import torch.nn as nn\n",
    "import torch.optim as optim\n",
    "from torchvision import datasets, transforms\n",
    "from torch.utils.data import DataLoader\n",
    "from matplotlib import pyplot as plt\n",
    "from tqdm import tqdm\n",
    "\n",
    "import scipy.io\n",
    "import time\n",
    "\n",
    "torch.manual_seed(21)"
   ]
  },
  {
   "cell_type": "code",
   "execution_count": 16,
   "metadata": {},
   "outputs": [],
   "source": [
    "import time\n",
    "notebook_start_time = time.time()"
   ]
  },
  {
   "cell_type": "code",
   "execution_count": 17,
   "metadata": {
    "id": "a-qrGK077N5J"
   },
   "outputs": [],
   "source": [
    "def rmse(u, v, mat):\n",
    "    mat = torch.tensor(mat)\n",
    "    mask = mat > 0\n",
    "    mse = torch.sum(((torch.matmul(u, v.t()) - mat) * mask) ** 2) / torch.sum(mask)\n",
    "    return torch.sqrt(mse)"
   ]
  },
  {
   "cell_type": "code",
   "execution_count": 18,
   "metadata": {
    "id": "f7c1dvVJEY2Q"
   },
   "outputs": [],
   "source": [
    "## Please do not forget to keep `new_movies_data.mat` file in the same folder as this notebook."
   ]
  },
  {
   "cell_type": "markdown",
   "metadata": {},
   "source": [
    "### Initial Implementation and Run"
   ]
  },
  {
   "cell_type": "code",
   "execution_count": 19,
   "metadata": {},
   "outputs": [],
   "source": [
    "import time\n",
    "def my_recommender(rate_mat, lr, with_reg, max_iter=500, learning_rate=0.001, reg_coef=0.02, clip_value=5.0, tol = 1e-5):    \n",
    "    device = torch.device(\"cuda\" if torch.cuda.is_available() else \"cpu\")\n",
    "    n_user, n_item = rate_mat.shape\n",
    "    rate_mat = torch.tensor(rate_mat, dtype=torch.float32).to(device)  \n",
    "    U = torch.rand(n_user, lr, device=device, dtype=torch.float32)  \n",
    "    V = torch.rand(n_item, lr, device=device, dtype=torch.float32) \n",
    "    mask = (rate_mat > 0).float() \n",
    "    prev_rmse = float('inf')\n",
    "    for iteration in range(max_iter):\n",
    "\n",
    "        predictions = torch.matmul(U, V.T)\n",
    "        error = (rate_mat - predictions) * mask  # Compute error only on observed entries\n",
    "    \n",
    "        U_grad = -2 * torch.matmul(error, V) \n",
    "        V_grad = -2 * torch.matmul(error.T, U)\n",
    "\n",
    "        if with_reg:\n",
    "            U_grad += 2 * reg_coef * U\n",
    "            V_grad += 2 * reg_coef * V\n",
    "\n",
    "\n",
    "        U_grad = torch.clamp(U_grad, -clip_value, clip_value)\n",
    "        V_grad = torch.clamp(V_grad, -clip_value, clip_value)\n",
    "\n",
    "        U -= learning_rate * U_grad\n",
    "        V -= learning_rate * V_grad\n",
    "\n",
    "        current_rmse = rmse(U, V, rate_mat).item()\n",
    "        \n",
    "        if abs(prev_rmse - current_rmse) < tol:\n",
    "            print(f\"Stopping early at iteration {iteration} with RMSE: {current_rmse:.4f}\")\n",
    "            break\n",
    "        \n",
    "        prev_rmse = current_rmse\n",
    "    \n",
    "    return U, V\n"
   ]
  },
  {
   "cell_type": "code",
   "execution_count": 20,
   "metadata": {},
   "outputs": [
    {
     "name": "stderr",
     "output_type": "stream",
     "text": [
      "C:\\Users\\adity\\AppData\\Local\\Temp\\ipykernel_11852\\2046902077.py:2: UserWarning: To copy construct from a tensor, it is recommended to use sourceTensor.clone().detach() or sourceTensor.clone().detach().requires_grad_(True), rather than torch.tensor(sourceTensor).\n",
      "  mat = torch.tensor(mat)\n"
     ]
    },
    {
     "name": "stdout",
     "output_type": "stream",
     "text": [
      "Stopping early at iteration 433 with RMSE: 0.9151\n",
      "SVD noReg-1  | Train RMSE: 0.9151 | Test RMSE: 0.9501 | Time: 1.32 seconds\n",
      "Stopping early at iteration 450 with RMSE: 0.9151\n",
      "SVD withReg-1  | Train RMSE: 0.9151 | Test RMSE: 0.9484 | Time: 0.26 seconds\n",
      "SVD noReg-3  | Train RMSE: 0.8455 | Test RMSE: 0.9469 | Time: 0.34 seconds\n",
      "SVD withReg-3  | Train RMSE: 0.8384 | Test RMSE: 0.9420 | Time: 0.38 seconds\n",
      "SVD noReg-5  | Train RMSE: 0.7912 | Test RMSE: 0.9883 | Time: 0.56 seconds\n",
      "SVD withReg-5  | Train RMSE: 0.7828 | Test RMSE: 0.9604 | Time: 1.30 seconds\n"
     ]
    }
   ],
   "source": [
    "low_rank_ls = [1, 3, 5]\n",
    "cell = scipy.io.loadmat('new_movies_data.mat')\n",
    "rate_mat = cell['train']\n",
    "test_mat = cell['test']\n",
    "\n",
    "device = torch.device(\"cuda\" if torch.cuda.is_available() else \"cpu\")\n",
    "for lr in low_rank_ls:\n",
    "    for reg_flag in [False, True]:\n",
    "        st = time.time()\n",
    "        U, V = my_recommender(rate_mat, lr, reg_flag)\n",
    "        \n",
    "        # Compute RMSE (Make sure to move tensors to CPU if needed)\n",
    "        train_rmse = rmse(U, V, torch.tensor(rate_mat, dtype=torch.float32).to(device)).item()\n",
    "        test_rmse = rmse(U, V, torch.tensor(test_mat, dtype=torch.float32).to(device)).item()\n",
    "        \n",
    "        t = time.time() - st\n",
    "        print(f\"SVD {'withReg' if reg_flag else 'noReg'}-{lr:<2} | \"\n",
    "      f\"Train RMSE: {train_rmse:.4f} | \"\n",
    "      f\"Test RMSE: {test_rmse:.4f} | \"\n",
    "      f\"Time: {t:.2f} seconds\")\n"
   ]
  },
  {
   "cell_type": "markdown",
   "metadata": {},
   "source": [
    "### Experimenting with Different instances of LR and regularization factors as asked in Question 5c"
   ]
  },
  {
   "cell_type": "code",
   "execution_count": 21,
   "metadata": {},
   "outputs": [
    {
     "name": "stderr",
     "output_type": "stream",
     "text": [
      "C:\\Users\\adity\\AppData\\Local\\Temp\\ipykernel_11852\\2046902077.py:2: UserWarning: To copy construct from a tensor, it is recommended to use sourceTensor.clone().detach() or sourceTensor.clone().detach().requires_grad_(True), rather than torch.tensor(sourceTensor).\n",
      "  mat = torch.tensor(mat)\n"
     ]
    },
    {
     "name": "stdout",
     "output_type": "stream",
     "text": [
      "Stopping early at iteration 445 with RMSE: 0.9152\n",
      "SVD noReg-1  | Train RMSE: 0.9152 | Test RMSE: 0.9491 | Time: 0.53 seconds\n",
      "Stopping early at iteration 453 with RMSE: 0.9151\n",
      "SVD withReg-1  | Train RMSE: 0.9151 | Test RMSE: 0.9494 | Time: 0.44 seconds\n",
      "Stopping early at iteration 817 with RMSE: 0.8295\n",
      "SVD noReg-3  | Train RMSE: 0.8295 | Test RMSE: 0.9377 | Time: 0.86 seconds\n",
      "Stopping early at iteration 682 with RMSE: 0.8318\n",
      "SVD withReg-3  | Train RMSE: 0.8318 | Test RMSE: 0.9495 | Time: 0.68 seconds\n",
      "Stopping early at iteration 962 with RMSE: 0.7742\n",
      "SVD noReg-5  | Train RMSE: 0.7742 | Test RMSE: 0.9848 | Time: 0.93 seconds\n",
      "Stopping early at iteration 933 with RMSE: 0.7732\n",
      "SVD withReg-5  | Train RMSE: 0.7732 | Test RMSE: 0.9890 | Time: 1.00 seconds\n"
     ]
    }
   ],
   "source": [
    "low_rank_ls = [1, 3, 5]\n",
    "cell = scipy.io.loadmat('new_movies_data.mat')\n",
    "rate_mat = cell['train']\n",
    "test_mat = cell['test']\n",
    "\n",
    "device = torch.device(\"cuda\" if torch.cuda.is_available() else \"cpu\")\n",
    "for lr in low_rank_ls:\n",
    "    for reg_flag in [False, True]:\n",
    "        st = time.time()\n",
    "        U, V = my_recommender(rate_mat, lr, reg_flag,  max_iter= 1000, reg_coef= 0.01, learning_rate= 1e-3) #training\n",
    "        \n",
    "        # Compute RMSE (Make sure to move tensors to CPU if needed)\n",
    "        train_rmse = rmse(U, V, torch.tensor(rate_mat, dtype=torch.float32).to(device)).item()\n",
    "        test_rmse = rmse(U, V, torch.tensor(test_mat, dtype=torch.float32).to(device)).item()\n",
    "        \n",
    "        t = time.time() - st\n",
    "        print(f\"SVD {'withReg' if reg_flag else 'noReg'}-{lr:<2} | \"\n",
    "      f\"Train RMSE: {train_rmse:.4f} | \"\n",
    "      f\"Test RMSE: {test_rmse:.4f} | \"\n",
    "      f\"Time: {t:.2f} seconds\")"
   ]
  },
  {
   "cell_type": "code",
   "execution_count": 22,
   "metadata": {},
   "outputs": [
    {
     "name": "stderr",
     "output_type": "stream",
     "text": [
      "C:\\Users\\adity\\AppData\\Local\\Temp\\ipykernel_11852\\2046902077.py:2: UserWarning: To copy construct from a tensor, it is recommended to use sourceTensor.clone().detach() or sourceTensor.clone().detach().requires_grad_(True), rather than torch.tensor(sourceTensor).\n",
      "  mat = torch.tensor(mat)\n"
     ]
    },
    {
     "name": "stdout",
     "output_type": "stream",
     "text": [
      "Stopping early at iteration 4067 with RMSE: 0.9168\n",
      "SVD noReg-1  | Train RMSE: 0.9168 | Test RMSE: 0.9505 | Time: 3.16 seconds\n",
      "Stopping early at iteration 4082 with RMSE: 0.9168\n",
      "SVD withReg-1  | Train RMSE: 0.9168 | Test RMSE: 0.9506 | Time: 3.14 seconds\n",
      "Stopping early at iteration 3932 with RMSE: 0.8419\n",
      "SVD noReg-3  | Train RMSE: 0.8419 | Test RMSE: 0.9353 | Time: 3.91 seconds\n",
      "Stopping early at iteration 3940 with RMSE: 0.8427\n",
      "SVD withReg-3  | Train RMSE: 0.8427 | Test RMSE: 0.9443 | Time: 4.99 seconds\n",
      "Stopping early at iteration 4026 with RMSE: 0.7944\n",
      "SVD noReg-5  | Train RMSE: 0.7944 | Test RMSE: 0.9656 | Time: 5.05 seconds\n",
      "Stopping early at iteration 3878 with RMSE: 0.7936\n",
      "SVD withReg-5  | Train RMSE: 0.7936 | Test RMSE: 0.9707 | Time: 5.33 seconds\n"
     ]
    }
   ],
   "source": [
    "low_rank_ls = [1, 3, 5]\n",
    "cell = scipy.io.loadmat('new_movies_data.mat')\n",
    "rate_mat = cell['train']\n",
    "test_mat = cell['test']\n",
    "\n",
    "device = torch.device(\"cuda\" if torch.cuda.is_available() else \"cpu\")\n",
    "for lr in low_rank_ls:\n",
    "    for reg_flag in [False, True]:\n",
    "        st = time.time()\n",
    "        U, V = my_recommender(rate_mat, lr, reg_flag,  max_iter= 6000, reg_coef= 0.01, learning_rate= 1e-4) #training\n",
    "        \n",
    "        # Compute RMSE (Make sure to move tensors to CPU if needed)\n",
    "        train_rmse = rmse(U, V, torch.tensor(rate_mat, dtype=torch.float32).to(device)).item()\n",
    "        test_rmse = rmse(U, V, torch.tensor(test_mat, dtype=torch.float32).to(device)).item()\n",
    "        \n",
    "        t = time.time() - st\n",
    "        print(f\"SVD {'withReg' if reg_flag else 'noReg'}-{lr:<2} | \"\n",
    "      f\"Train RMSE: {train_rmse:.4f} | \"\n",
    "      f\"Test RMSE: {test_rmse:.4f} | \"\n",
    "      f\"Time: {t:.2f} seconds\")"
   ]
  },
  {
   "cell_type": "markdown",
   "metadata": {},
   "source": [
    "I chose a learning rate (LR) of 0.001 and a regularization coefficient (λ) of 0.02 because I found that these values consistently resulted in a lower test RMSE compared to models without regularization. Specifically, the regularization helps prevent overfitting by penalizing large latent factor values, which is crucial given the sparsity and noise in the Netflix dataset. The learning rate of 0.001 ensures stable convergence without overshooting, allowing the model to fine-tune its parameters effectively. In contrast, when I experimented with no regularization, the model tended to overfit, leading to higher RMSE on the test set. These hyperparameters strike a good balance between preventing overfitting and ensuring smooth convergence, which is essential for achieving optimal performance in collaborative filtering tasks like the Netflix recommendation challenge"
   ]
  },
  {
   "cell_type": "markdown",
   "metadata": {},
   "source": [
    "### Discuss Results on Varied Low Rank\n",
    "\n"
   ]
  },
  {
   "cell_type": "code",
   "execution_count": 23,
   "metadata": {},
   "outputs": [
    {
     "name": "stderr",
     "output_type": "stream",
     "text": [
      "C:\\Users\\adity\\AppData\\Local\\Temp\\ipykernel_11852\\2046902077.py:2: UserWarning: To copy construct from a tensor, it is recommended to use sourceTensor.clone().detach() or sourceTensor.clone().detach().requires_grad_(True), rather than torch.tensor(sourceTensor).\n",
      "  mat = torch.tensor(mat)\n"
     ]
    },
    {
     "name": "stdout",
     "output_type": "stream",
     "text": [
      "Stopping early at iteration 439 with RMSE: 0.9151\n",
      "SVD noReg-1  | Train RMSE: 0.9151 | Test RMSE: 0.9496 | Time: 0.55 seconds\n",
      "Stopping early at iteration 434 with RMSE: 0.9152\n",
      "SVD withReg-1  | Train RMSE: 0.9152 | Test RMSE: 0.9505 | Time: 0.59 seconds\n",
      "SVD noReg-3  | Train RMSE: 0.8354 | Test RMSE: 0.9378 | Time: 0.64 seconds\n",
      "SVD withReg-3  | Train RMSE: 0.8367 | Test RMSE: 0.9374 | Time: 0.67 seconds\n",
      "SVD noReg-5  | Train RMSE: 0.7856 | Test RMSE: 0.9646 | Time: 0.60 seconds\n",
      "SVD withReg-5  | Train RMSE: 0.7861 | Test RMSE: 0.9738 | Time: 0.68 seconds\n",
      "SVD noReg-10 | Train RMSE: 0.6841 | Test RMSE: 1.0481 | Time: 0.36 seconds\n",
      "SVD withReg-10 | Train RMSE: 0.6806 | Test RMSE: 1.0546 | Time: 0.48 seconds\n",
      "Stopping early at iteration 321 with RMSE: 0.1805\n",
      "SVD noReg-100 | Train RMSE: 0.1805 | Test RMSE: 1.3532 | Time: 0.38 seconds\n",
      "Stopping early at iteration 305 with RMSE: 0.1856\n",
      "SVD withReg-100 | Train RMSE: 0.1856 | Test RMSE: 1.3553 | Time: 0.38 seconds\n",
      "SVD noReg-1000 | Train RMSE: 0.2064 | Test RMSE: 3.4138 | Time: 2.35 seconds\n",
      "SVD withReg-1000 | Train RMSE: 0.2077 | Test RMSE: 3.3260 | Time: 2.25 seconds\n"
     ]
    }
   ],
   "source": [
    "low_rank_ls = [1, 3, 5, 10, 100, 1000]\n",
    "cell = scipy.io.loadmat('new_movies_data.mat')\n",
    "rate_mat = cell['train']\n",
    "test_mat = cell['test']\n",
    "\n",
    "device = torch.device(\"cuda\" if torch.cuda.is_available() else \"cpu\")\n",
    "for lr in low_rank_ls:\n",
    "    for reg_flag in [False, True]:\n",
    "        st = time.time()\n",
    "        U, V = my_recommender(rate_mat, lr, reg_flag)\n",
    "        \n",
    "        # Compute RMSE (Make sure to move tensors to CPU if needed)\n",
    "        train_rmse = rmse(U, V, torch.tensor(rate_mat, dtype=torch.float32).to(device)).item()\n",
    "        test_rmse = rmse(U, V, torch.tensor(test_mat, dtype=torch.float32).to(device)).item()\n",
    "        \n",
    "        t = time.time() - st\n",
    "        print(f\"SVD {'withReg' if reg_flag else 'noReg'}-{lr:<2} | \"\n",
    "      f\"Train RMSE: {train_rmse:.4f} | \"\n",
    "      f\"Test RMSE: {test_rmse:.4f} | \"\n",
    "      f\"Time: {t:.2f} seconds\")"
   ]
  },
  {
   "cell_type": "markdown",
   "metadata": {},
   "source": [
    "The results show that as the low-rank value increases, the model tends to overfit, with training RMSE decreasing significantly but test RMSE worsening. For lower ranks (1 to 5), the model generalizes better, with moderate test RMSE. However, as the rank increases beyond 10, overfitting becomes evident, especially at ranks like 100 and 1000, where test RMSE skyrockets despite near-perfect train RMSE.\n",
    "Regularization helps slightly in controlling overfitting but doesn't drastically improve performance at lower ranks. The ideal low-rank value appears to be 3 or 5, where the model balances complexity and generalization. Increasing the rank beyond this leads to diminishing returns and poor test performance, making these values optimal for this recommendation system task."
   ]
  },
  {
   "cell_type": "code",
   "execution_count": 24,
   "metadata": {},
   "outputs": [
    {
     "name": "stdout",
     "output_type": "stream",
     "text": [
      "Total execution time of the notebook: 44.28 seconds\n"
     ]
    }
   ],
   "source": [
    "notebook_end_time = time.time()\n",
    "elapsed_time = notebook_end_time - notebook_start_time\n",
    "print(f\"Total execution time of the notebook: {elapsed_time:.2f} seconds\")"
   ]
  }
 ],
 "metadata": {
  "colab": {
   "provenance": []
  },
  "kernelspec": {
   "display_name": "Python 3",
   "name": "python3"
  },
  "language_info": {
   "codemirror_mode": {
    "name": "ipython",
    "version": 3
   },
   "file_extension": ".py",
   "mimetype": "text/x-python",
   "name": "python",
   "nbconvert_exporter": "python",
   "pygments_lexer": "ipython3",
   "version": "3.11.1"
  }
 },
 "nbformat": 4,
 "nbformat_minor": 0
}
