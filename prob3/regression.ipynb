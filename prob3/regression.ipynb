{
  "cells": [
    {
      "cell_type": "code",
      "execution_count": 1,
      "metadata": {
        "id": "XizLhEXV4MKE"
      },
      "outputs": [],
      "source": [
        "import numpy as np\n",
        "from sklearn.model_selection import train_test_split\n",
        "from sklearn.metrics import mean_squared_error"
      ]
    },
    {
      "cell_type": "code",
      "execution_count": 2,
      "metadata": {
        "id": "jWUsXcFR4U97"
      },
      "outputs": [],
      "source": [
        "## DO NOT DELETE ##\n",
        "\n",
        "def generate_linear_data(n:int, d:int, sigma:float):\n",
        "  '''\n",
        "    Input:\n",
        "      n: number of datapoints\n",
        "      d: dimension of features\n",
        "      sigma: std for gaussian noise for the synthetic linear data\n",
        "    returns 3 variables\n",
        "      X the design matrix shape is (n x d) each element in the matrix is in [0, 1]\n",
        "      y the associated labels shape is (n,) each y is in [-1, 1]\n",
        "      theta is randomly generated on the surface of the sphere,\n",
        "  '''\n",
        "  X = np.random.randn(n, d) # entries uniform in [0,1), thus each row ||x_i|| bounded by 1\n",
        "  theta = np.random.normal(0, 1, d) # d iid Gaussian each entry N(0, 1)\n",
        "  theta = theta / np.linalg.norm(theta) # theta is uniformly distributed on the surface of unit sphere, shape (d,)\n",
        "  y = (X @ theta) + np.random.normal(0, sigma, size=n) # so essentially the learner is trying to recover \\theta\n",
        "  return X, y"
      ]
    },
    {
      "cell_type": "code",
      "execution_count": 3,
      "metadata": {
        "id": "iwJ0fbr546wJ"
      },
      "outputs": [],
      "source": [
        "## DO NOT DELETE ##\n",
        "def mse_loss(y_true:np.ndarray, y_pred:np.ndarray):\n",
        "  '''\n",
        "  Inputs:\n",
        "    y_true : the ground truth labels vector\n",
        "    y_pred : the predicted labels vector\n",
        "  '''\n",
        "  assert len(y_true) == len(y_pred) # assert that the size is same\n",
        "\n",
        "  return mean_squared_error(y_true, y_pred) # MSE calculation"
      ]
    },
    {
      "cell_type": "markdown",
      "metadata": {},
      "source": [
        "Using Gradient Descent for Optimization"
      ]
    },
    {
      "cell_type": "code",
      "execution_count": 23,
      "metadata": {
        "id": "i_MmYMI35Z3C"
      },
      "outputs": [],
      "source": [
        "def linear_regression_soln(X_train:np.ndarray, y_train:np.ndarray, X_test:np.ndarray, y_test:np.ndarray,) -> np.ndarray:\n",
        "    '''\n",
        "     TODO complete this function ;\n",
        "     Implement linear regression and compute the mse (3 PTS)\n",
        "     \n",
        "     Returns:\n",
        "        mse_loss_linear_reg (float) : the mean squared error on the test set\n",
        "    '''\n",
        "    # TODO Implement this function\n",
        "    m, n = X_train.shape\n",
        "    weights = np.zeros(n) #shape n * n\n",
        "    bias = 0\n",
        "    epochs = 1000\n",
        "    LR = 0.001\n",
        "    for i in range(epochs):\n",
        "        y_pred = np.dot(X_train, weights) + bias\n",
        "        error = y_pred - y_train\n",
        "        mse_loss_linear_reg = mse_loss(y_pred, y_train)\n",
        "\n",
        "        dw = np.dot(X_train.T, error) / m\n",
        "        db = np.sum(error) / m\n",
        "\n",
        "        bias = bias - LR * db\n",
        "        weights = weights - LR * dw\n",
        "    \n",
        "    return mse_loss_linear_reg"
      ]
    },
    {
      "cell_type": "code",
      "execution_count": 24,
      "metadata": {},
      "outputs": [
        {
          "name": "stdout",
          "output_type": "stream",
          "text": [
            "0.12636982482600467\n"
          ]
        }
      ],
      "source": [
        "X, y = generate_linear_data(n = 1000, d = 20, sigma = 0.0)\n",
        "X_train, X_test, y_train, y_test = train_test_split(X, y, test_size = 0.2, random_state = 37)\n",
        "# N_train, N_test = len(X_train), len(X_test)\n",
        "\n",
        "mse_loss_linear_reg = linear_regression_soln(X_train, y_train, X_test, y_test)\n",
        "print(mse_loss_linear_reg) # -- Sanity check; this value should be very close to 0, think why!"
      ]
    },
    {
      "cell_type": "markdown",
      "metadata": {},
      "source": [
        "Solving the Closed Form Solution"
      ]
    },
    {
      "cell_type": "code",
      "execution_count": 26,
      "metadata": {},
      "outputs": [],
      "source": [
        "def linear_regression_soln(X_train: np.ndarray, y_train: np.ndarray, X_test: np.ndarray, y_test: np.ndarray) -> float:\n",
        "    '''\n",
        "    Implement linear regression using the closed-form solution and compute the MSE.\n",
        "\n",
        "    Returns:\n",
        "        mse_loss_linear_reg (float): The mean squared error on the test set.\n",
        "    '''\n",
        "    #column of ones for the bias term\n",
        "    X_train_aug = np.hstack([X_train, np.ones((X_train.shape[0], 1))])\n",
        "    X_test_aug = np.hstack([X_test, np.ones((X_test.shape[0], 1))])\n",
        "    XTX = np.dot(X_train_aug.T, X_train_aug)\n",
        "    XTy = np.dot(X_train_aug.T, y_train)\n",
        "    weights = np.linalg.solve(XTX, XTy)\n",
        "    \n",
        "    # Compute predictions on the test set\n",
        "    y_pred = np.dot(X_test_aug, weights)\n",
        "    \n",
        "    mse_loss_linear_reg = mse_loss(y_pred, y_test)\n",
        "    \n",
        "    return mse_loss_linear_reg"
      ]
    },
    {
      "cell_type": "code",
      "execution_count": 20,
      "metadata": {},
      "outputs": [
        {
          "name": "stdout",
          "output_type": "stream",
          "text": [
            "9.285774930365838e-32\n"
          ]
        }
      ],
      "source": [
        "X, y = generate_linear_data(n = 1000, d = 20, sigma = 0.0)\n",
        "X_train, X_test, y_train, y_test = train_test_split(X, y, test_size = 0.2, random_state = 37)\n",
        "# N_train, N_test = len(X_train), len(X_test)\n",
        "\n",
        "mse_loss_linear_reg = linear_regression_soln(X_train, y_train, X_test, y_test)\n",
        "print(mse_loss_linear_reg) # -- Sanity check; this value should be very close to 0, think why!"
      ]
    },
    {
      "cell_type": "markdown",
      "metadata": {},
      "source": [
        "As we observe the loss value is very close to 0 and much lesser than what we observed with Gradient Descent in the initial implementation of our linear regression function."
      ]
    },
    {
      "cell_type": "code",
      "execution_count": 34,
      "metadata": {
        "id": "-yaYLy8l4U75"
      },
      "outputs": [],
      "source": [
        "def ridge_regression_soln(X_train:np.ndarray, y_train:np.ndarray, \\\n",
        "                        X_test:np.ndarray, y_test:np.ndarray, \\\n",
        "                        lamb:float) -> np.ndarray:\n",
        "    '''\n",
        "     TODO complete this function ;\n",
        "     Implement ridge regression and compute the mse (3 PTS)\n",
        "\n",
        "    HINT --- Solve this in three steps\n",
        "\n",
        "    Step (1) -- Compute the optimal theta vector on the train set (call it `theta_opt`)\n",
        "    This is a (np.ndarray) of size d (d = number of features.\n",
        "\n",
        "    Step (2) -- Compute the prediction vector using the above on the test set and return this prediction vector.\n",
        "\n",
        "    Step (3) -- Compute MSE (see the corresponding function in utils.py file) and return the MSE value\n",
        "\n",
        "    Returns:\n",
        "        mse_loss_ridge_reg (float) : the mean squared error on the test set\n",
        "    '''\n",
        "    # TODO Implement this function\n",
        "    d = X_train.shape[1]\n",
        "    I = np.eye(d)\n",
        "\n",
        "    XTX_lambI = np.dot(X_train.T,X_train) + lamb * I #the left part of theta_opt\n",
        "\n",
        "    XTY = np.dot(X_train.T, y_train)\n",
        "\n",
        "    \n",
        "    theta_opt = np.linalg.solve(XTX_lambI, XTY) #now we find the optimal theta parameter\n",
        "    #for ridge regression\n",
        "\n",
        "    y_pred = np.dot(X_test, theta_opt)\n",
        "\n",
        "    return mse_loss(y_pred , y_test)"
      ]
    },
    {
      "cell_type": "code",
      "execution_count": 35,
      "metadata": {
        "id": "Cp4MwxEF4t6O"
      },
      "outputs": [
        {
          "name": "stdout",
          "output_type": "stream",
          "text": [
            "2.112020517851222e-31\n",
            "[1.656857202031158e-08, 4.1377154469272294e-07, 1.6528764503650335e-06, 4.0883980078663925e-05, 0.00016138572013719396]\n"
          ]
        }
      ],
      "source": [
        "## DO NOT CHANGE THE BELOW LINES !\n",
        "\n",
        "X, y = generate_linear_data(n = 1000, d = 20, sigma = 0.0)\n",
        "X_train, X_test, y_train, y_test = train_test_split(X, y, test_size = 0.2, random_state = 37)\n",
        "# N_train, N_test = len(X_train), len(X_test)\n",
        "\n",
        "mse_loss_linear_reg = linear_regression_soln(X_train, y_train, X_test, y_test)\n",
        "print(mse_loss_linear_reg) # -- Sanity check; this value should be very close to 0, think why!\n",
        "\n",
        "lambda_list = [0.1, 0.5, 1, 5, 10]\n",
        "mse_list = []\n",
        "\n",
        "for lamb in lambda_list:\n",
        "\n",
        "    mse_loss_ridge_reg = ridge_regression_soln(X_train, y_train, X_test, y_test, lamb)\n",
        "    mse_list.append(mse_loss_ridge_reg)\n",
        "\n",
        "print(mse_list)"
      ]
    },
    {
      "cell_type": "code",
      "execution_count": 38,
      "metadata": {
        "id": "ynb9OYy74U5e"
      },
      "outputs": [
        {
          "data": {
            "image/png": "[encoded data removed]",
            "text/plain": [
              "<Figure size 800x600 with 1 Axes>"
            ]
          },
          "metadata": {},
          "output_type": "display_data"
        }
      ],
      "source": [
        "# TODO plot the mse values (`mse_list`) on the y-axis and the lambda values on the x-axis for ridge regression\n",
        "# use matplotlib\n",
        "from matplotlib import pyplot as plt\n",
        "\n",
        "plt.figure(figsize=(8,6))\n",
        "plt.plot(lambda_list, mse_list, marker = 'o')\n",
        "plt.xlabel('Lambda (Regularization Parameter)')\n",
        "plt.ylabel('MSE Loss')\n",
        "plt.title(\"Ridge Regression: MSE vs Lambda\")\n",
        "plt.grid(True)\n",
        "plt.show()\n"
      ]
    },
    {
      "cell_type": "markdown",
      "metadata": {},
      "source": [
        "## Comparison of Both Approaches\n",
        "\n",
        "### MSE Loss\n",
        "1. **Linear Regression MSE Loss:** Of the order of 2.11e-31, extremely close to zero.\n",
        "2. **Ridge Regression MSE Loss:** MSE values range from approximately 1.65e-08 (for \\(\\lambda = 0.1\\)) to 0.000161 (for \\(\\lambda = 10\\)).\n",
        "\n",
        "### Performance Analysis\n",
        "\n",
        "1. **Linear Regression:**\n",
        "   - The nearly zero MSE shows that linear regression achieves an almost perfect fit. This is expected, as the `generate_linear_data` function generates synthetic data that is exactly linear, with points perfectly aligned to a linear relationship. The lack of noise (\\(\\sigma = 0\\)) further ensures that the model can capture the exact relationship, leading to minimal error.\n",
        "   - **Why Linear Regression Performs Better Here:** Given the perfectly linear nature of the data, linear regression captures the true relationship without the need for regularization. Regularization isn’t necessary in this setup because there’s no overfitting risk when the data is ideal and noise-free.\n",
        "\n",
        "2. **Ridge Regression:**\n",
        "   - Ridge regression yields slightly higher MSE values because it introduces a regularization term. This regularization slightly alters the optimal solution, leading to higher MSE compared to linear regression. However, it still performs well on the test set, as the data is linear and well-behaved.\n",
        "   - **Effect of \\(\\lambda\\):** As \\(\\lambda\\) increases, ridge regression’s regularization effect increases, slightly raising the MSE. This regularization term prevents large weights, making the model more robust in cases where noise or multicollinearity is present. However, in the case of perfectly linear data, this regularization isn’t needed, which is why ridge regression performs slightly worse here.\n",
        "\n",
        "### Practical Implications\n",
        "\n",
        "- **When to Prefer Linear Regression:** Ideal for synthetic or real-world scenarios with noise-free, perfectly linear data, as in this setup, where overfitting is not a concern. Linear regression will capture the relationship precisely without the need for regularization.\n",
        "  \n",
        "- **When to Use Ridge Regression:** Preferable in practical applications where data often contains noise or multicollinearity. Ridge regression helps prevent overfitting by penalizing large weights, which provides robustness and better generalization on real-world, noisy data. It’s particularly useful in high-dimensional settings, where features may be correlated.\n",
        "\n",
        "### Conclusion\n",
        "\n",
        "- **Current Setup:** Linear regression achieves a lower MSE due to the perfectly linear and noise-free nature of the synthetic data generated by `generate_linear_data`. The function produces data that exactly aligns with the linear model’s assumptions, allowing linear regression to reach nearly zero error.\n",
        "- **Practical Use:** In real-world data, ridge regression is generally preferred because it mitigates overfitting by regularizing the weights. This makes ridge regression more robust and ensures better performance on unseen, noisy data. While linear regression fits perfectly in idealized conditions, ridge regression offers improved stability and generalization for real-world applications.\n"
      ]
    }
  ],
  "metadata": {
    "colab": {
      "provenance": []
    },
    "kernelspec": {
      "display_name": "Python 3",
      "name": "python3"
    },
    "language_info": {
      "codemirror_mode": {
        "name": "ipython",
        "version": 3
      },
      "file_extension": ".py",
      "mimetype": "text/x-python",
      "name": "python",
      "nbconvert_exporter": "python",
      "pygments_lexer": "ipython3",
      "version": "3.11.1"
    }
  },
  "nbformat": 4,
  "nbformat_minor": 0
}
